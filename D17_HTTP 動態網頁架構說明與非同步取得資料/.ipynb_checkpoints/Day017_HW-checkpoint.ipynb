{
 "cells": [
  {
   "cell_type": "markdown",
   "metadata": {},
   "source": [
    "了解動態網頁的資料爬蟲策略\n",
    "==\n",
    "知道非同步網站載入機制(Ajax)\n",
    "==\n",
    "學習兩種對應動態網頁爬蟲的策略\n",
    "=="
   ]
  },
  {
   "cell_type": "code",
   "execution_count": null,
   "metadata": {},
   "outputs": [],
   "source": []
  }
 ],
 "metadata": {
  "kernelspec": {
   "display_name": "Python 3",
   "language": "python",
   "name": "python3"
  },
  "language_info": {
   "codemirror_mode": {
    "name": "ipython",
    "version": 3
   },
   "file_extension": ".py",
   "mimetype": "text/x-python",
   "name": "python",
   "nbconvert_exporter": "python",
   "pygments_lexer": "ipython3",
   "version": "3.6.4"
  }
 },
 "nbformat": 4,
 "nbformat_minor": 2
}
