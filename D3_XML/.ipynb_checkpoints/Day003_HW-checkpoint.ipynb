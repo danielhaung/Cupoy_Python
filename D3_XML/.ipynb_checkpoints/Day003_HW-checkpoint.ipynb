{
 "cells": [
  {
   "cell_type": "markdown",
   "metadata": {},
   "source": [
    "Python 下載XML檔案與解析\n",
    "了解 xml 檔案格式與內容\n",
    "能夠利用套件存取 xml 格式的檔案\n",
    "作業目標\n",
    "比較一下範例檔案中的「File I/O」與「xmltodict」讀出來的內容有什麼差異\n",
    "\n",
    "根據範例檔案的結果：\n",
    "\n",
    "請問高雄市有多少地區有溫度資料？\n",
    "請取出每一個地區所記錄的第一個時間點跟溫度\n",
    "請取出第一個地區所記錄的每一個時間點跟溫度\n",
    "比較一下範例檔案中的「File I/O」與「xmltodict」讀出來的內容有什麼差異\n",
    "\n"
   ]
  },
  {
   "cell_type": "code",
   "execution_count": null,
   "metadata": {},
   "outputs": [],
   "source": []
  },
  {
   "cell_type": "markdown",
   "metadata": {},
   "source": [
    "根據範例檔案的結果：\n",
    "請問高雄市有多少地區有溫度資料？\n",
    "請取出每一個地區所記錄的第一個時間點跟溫度\n",
    "請取出第一個地區所記錄的每一個時間點跟溫度"
   ]
  },
  {
   "cell_type": "code",
   "execution_count": 7,
   "metadata": {},
   "outputs": [
    {
     "name": "stdout",
     "output_type": "stream",
     "text": [
      "同一區每時段溫度搜尋完畢\n",
      "['鼓山區', '鼓山區', '左營區', '左營區', '楠梓區', '楠梓區', '三民區', '三民區', '新興區', '新興區', '前金區', '前金區', '苓雅區', '苓雅區', '前鎮區', '前鎮區', '旗津區', '旗津區', '小港區', '小港區', '鳳山區', '鳳山區', '林園區', '林園區', '大寮區', '大寮區', '大樹區', '大樹區', '大社區', '大社區', '仁武區', '仁武區', '鳥松區', '鳥松區', '岡山區', '岡山區', '橋頭區', '橋頭區', '燕巢區', '燕巢區', '田寮區', '田寮區', '阿蓮區', '阿蓮區', '路竹區', '路竹區', '湖內區', '湖內區'] 共24區\n"
     ]
    }
   ],
   "source": [
    "# 1. 請問高雄市有多少地區有溫度資料？\n",
    "#下載檔案\n",
    "import urllib.request\n",
    "import zipfile\n",
    "\n",
    "res = \"http://opendata.cwb.gov.tw/govdownload?dataid=F-D0047-093&authorizationkey=rdec-key-123-45678-011121314\"\n",
    "urllib.request.urlretrieve(res,'./Data/example.zip')\n",
    "f = zipfile.ZipFile('./Data/example.zip')\n",
    "f.extractall('./Data')  #將所有成員從存檔提取到當前工作目錄\n",
    "\n",
    "#File I/O\n",
    "#讀檔案\n",
    "fh = open(\"./Data/64_72hr_CH.xml\",\"r\",encoding='utf-8')\n",
    "xml = fh.read()\n",
    "fh.close()\n",
    "\n",
    "\n",
    "\n",
    "import xmltodict\n",
    "\n",
    "d = dict(xmltodict.parse(xml))\n",
    "\n",
    "datasetDescription = d['cwbopendata']['dataset']['locations']['location']\n",
    "datetime = datasetDescription[0]['weatherElement'][0]['time'][1]['dataTime']\n",
    "Temp = datasetDescription[0]['weatherElement'][0]['time'][1]['elementValue'][\"value\"]\n",
    "\n",
    "list_all = []\n",
    "list_firstTimeTemp= []\n",
    "list_firstTimeTemp_1 = []\n",
    "i = 0\n",
    "j= 0\n",
    "while True:\n",
    "    try:\n",
    "        i+=1\n",
    "        list_all.append(datasetDescription[i]['locationName'])\n",
    "        list_firstTimeTemp.append([datasetDescription[i]['weatherElement'][0]['time'][0]['dataTime'],datasetDescription[i]['weatherElement'][0]['time'][0]['elementValue'][\"value\"]])\n",
    "        \n",
    "    except IndexError:\n",
    "        print(\"搜尋完畢\")\n",
    "        i-=1\n",
    "        break\n",
    "\n",
    "    try:\n",
    "        j+=1\n",
    "        list_all.append(datasetDescription[j]['locationName'])\n",
    "        list_firstTimeTemp_1.append([datasetDescription[0]['weatherElement'][0]['time'][j]['dataTime'],datasetDescription[0]['weatherElement'][0]['time'][j]['elementValue'][\"value\"]])\n",
    "        \n",
    "    except IndexError:\n",
    "        print(\"同一區每時段溫度搜尋完畢\")\n",
    "        j-=1\n",
    "        break\n",
    "\n",
    "print(list_all,\"共\"+str(i)+\"區\")"
   ]
  },
  {
   "cell_type": "code",
   "execution_count": 5,
   "metadata": {},
   "outputs": [
    {
     "name": "stdout",
     "output_type": "stream",
     "text": [
      "[['2020-09-30T12:00:00+08:00', '32'], ['2020-09-30T12:00:00+08:00', '31'], ['2020-09-30T12:00:00+08:00', '32'], ['2020-09-30T12:00:00+08:00', '30'], ['2020-09-30T12:00:00+08:00', '32'], ['2020-09-30T12:00:00+08:00', '32'], ['2020-09-30T12:00:00+08:00', '32'], ['2020-09-30T12:00:00+08:00', '32'], ['2020-09-30T12:00:00+08:00', '31'], ['2020-09-30T12:00:00+08:00', '32'], ['2020-09-30T12:00:00+08:00', '32'], ['2020-09-30T12:00:00+08:00', '31'], ['2020-09-30T12:00:00+08:00', '32'], ['2020-09-30T12:00:00+08:00', '32'], ['2020-09-30T12:00:00+08:00', '32'], ['2020-09-30T12:00:00+08:00', '32'], ['2020-09-30T12:00:00+08:00', '33'], ['2020-09-30T12:00:00+08:00', '32'], ['2020-09-30T12:00:00+08:00', '33'], ['2020-09-30T12:00:00+08:00', '32'], ['2020-09-30T12:00:00+08:00', '33'], ['2020-09-30T12:00:00+08:00', '33'], ['2020-09-30T12:00:00+08:00', '33'], ['2020-09-30T12:00:00+08:00', '32'], ['2020-09-30T12:00:00+08:00', '31'], ['2020-09-30T12:00:00+08:00', '31'], ['2020-09-30T12:00:00+08:00', '31'], ['2020-09-30T12:00:00+08:00', '32'], ['2020-09-30T12:00:00+08:00', '32'], ['2020-09-30T12:00:00+08:00', '32'], ['2020-09-30T12:00:00+08:00', '31'], ['2020-09-30T12:00:00+08:00', '31'], ['2020-09-30T12:00:00+08:00', '33'], ['2020-09-30T12:00:00+08:00', '32'], ['2020-09-30T12:00:00+08:00', '32'], ['2020-09-30T12:00:00+08:00', '28'], ['2020-09-30T12:00:00+08:00', '27']]\n"
     ]
    }
   ],
   "source": [
    "#2. 請取出每一個地區所記錄的第一個時間點跟溫度\n",
    "print(list_firstTimeTemp)"
   ]
  },
  {
   "cell_type": "code",
   "execution_count": 9,
   "metadata": {},
   "outputs": [
    {
     "name": "stdout",
     "output_type": "stream",
     "text": [
      "[['2020-09-30T15:00:00+08:00', '31'], ['2020-09-30T18:00:00+08:00', '29'], ['2020-09-30T21:00:00+08:00', '28'], ['2020-10-01T00:00:00+08:00', '28'], ['2020-10-01T03:00:00+08:00', '27'], ['2020-10-01T06:00:00+08:00', '26'], ['2020-10-01T09:00:00+08:00', '28'], ['2020-10-01T12:00:00+08:00', '31'], ['2020-10-01T15:00:00+08:00', '30'], ['2020-10-01T18:00:00+08:00', '29'], ['2020-10-01T21:00:00+08:00', '28'], ['2020-10-02T00:00:00+08:00', '27'], ['2020-10-02T03:00:00+08:00', '27'], ['2020-10-02T06:00:00+08:00', '26'], ['2020-10-02T09:00:00+08:00', '28'], ['2020-10-02T12:00:00+08:00', '31'], ['2020-10-02T15:00:00+08:00', '30'], ['2020-10-02T18:00:00+08:00', '29'], ['2020-10-02T21:00:00+08:00', '28'], ['2020-10-03T00:00:00+08:00', '27'], ['2020-10-03T03:00:00+08:00', '27'], ['2020-10-03T06:00:00+08:00', '26'], ['2020-10-03T09:00:00+08:00', '29']]\n"
     ]
    }
   ],
   "source": [
    "# 3. 請取出第一個地區所記錄的每一個時間點跟溫度\n",
    "print(list_firstTimeTemp_1)"
   ]
  },
  {
   "cell_type": "code",
   "execution_count": null,
   "metadata": {},
   "outputs": [],
   "source": []
  }
 ],
 "metadata": {
  "kernelspec": {
   "display_name": "Python 3",
   "language": "python",
   "name": "python3"
  },
  "language_info": {
   "codemirror_mode": {
    "name": "ipython",
    "version": 3
   },
   "file_extension": ".py",
   "mimetype": "text/x-python",
   "name": "python",
   "nbconvert_exporter": "python",
   "pygments_lexer": "ipython3",
   "version": "3.8.3"
  }
 },
 "nbformat": 4,
 "nbformat_minor": 4
}
