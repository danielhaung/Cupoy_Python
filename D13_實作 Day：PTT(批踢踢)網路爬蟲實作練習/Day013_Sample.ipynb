{
 "cells": [
  {
   "cell_type": "markdown",
   "metadata": {},
   "source": [
    "PTT 網路爬蟲實作練習\n",
    "==\n",
    "能夠利用 Request + BeatifulSour 撰寫爬蟲，並存放到合適的資料結構\n",
    "--\n",
    "PTT 網頁爬蟲\n",
    "==="
   ]
  },
  {
   "cell_type": "code",
   "execution_count": null,
   "metadata": {},
   "outputs": [
    {
     "name": "stdout",
     "output_type": "stream",
     "text": [
      "[討論]NBA球隊持有者經營球隊的原因？\n",
      "作者: KDSKY (貓茶)\n",
      "(本文已被刪除) [ivo88114]\n",
      "(本文已被刪除) [cloud72426]\n",
      "[外絮] 籃網Dinwiddie:我視我自己為籃網的嘴綠\n",
      "作者: pneumo (超☆冒險蓋)\n",
      "[情報] Lillard:若生涯無冠 願意重拍No Rings廣告\n",
      "作者: thnlkj0665 (灰色地帶)\n",
      "[花邊] 美媒曬可愛空手道訓練片段：他啥時候學會\n",
      "作者: wwf1588 (s-n-imn)\n",
      "[情報] Kerr談KD離開勇士：對他來說，接受新挑戰\n",
      "作者: wwf1588 (s-n-imn)\n",
      "[花邊] 替被無視安東尼報不平 卡爾籲金塊該退休\n",
      "作者: sodistrues (true)\n",
      "[新聞] 大方祝福弟弟隨湖人奪冠 安戴托昆波機場迎\n",
      "作者: Gotham (萬惡之城)\n",
      "(已被namie810303刪除) <aids893001>2.6.1\n",
      "[花邊] Cousins：保持耐心很痛苦，但果實會甜美\n",
      "作者: LABOYS (洛城浪子)\n",
      "Re: [專欄] 塞提/國王為射手設計的一個ATO\n",
      "作者: azlbf (上邪!我欲與君相知)\n",
      "[討論] 四冠六亞換成四冠(四連霸)地位升or降?\n",
      "作者: Borges (波波波波)\n",
      "[情報] eCoach NBA教練雲 Kerr、CBS 線上教球\n",
      "作者: LABOYS (洛城浪子)\n",
      "Re: ［情報］Rose是湖人更有可能想要的對象\n",
      "作者: Demonfake (Jeff)\n",
      "[專欄] 快艇的未來會怎樣呢？\n",
      "作者: wwf1588 (s-n-imn)\n",
      "[新聞] 外媒報湖人願重啟交易羅斯 傳活塞欲索價\n",
      "作者: XperiaZ6C (索尼)\n",
      "Re: ［情報］Rose是湖人更有可能想要的對象\n",
      "作者: azlbf (上邪!我欲與君相知)\n",
      "Re: [新聞] 外媒報湖人願重啟交易羅斯 傳活塞欲索價\n",
      "作者: TheoEpstein (Cubs)\n",
      "[公告] 板規v6.8\n",
      "[公告] 第一次被退文，可在三天後刪除退文\n",
      "作者: Vedan (味丹)\n",
      "[情報] Playoffs Schedule 19–20\n",
      "作者: Acetoxy (阿斯)\n",
      "[公告] 季後賽條款於10/14零時解除\n"
     ]
    }
   ],
   "source": [
    "import requests \n",
    "from bs4 import BeautifulSoup\n",
    "\n",
    "url  = \"https://www.ptt.cc/bbs/NBA/index.html\"\n",
    "r = requests.get(url)\n",
    "\n",
    "soup = BeautifulSoup(r.text,'lxml')\n",
    "\n",
    "for d in soup.find_all(class_='title'):\n",
    "    print(d.text.replace('\\t','').replace('\\n',''))  #去掉空白與\n",
    "    try:\n",
    "        r = BeautifulSoup(requests.get('https://www.ptt.cc'+d.find('a')['href']).text, \"html5lib\")\n",
    "        print('作者: ' + r.find(class_='article-meta-value').text)\n",
    "    except:\n",
    "        continue"
   ]
  },
  {
   "cell_type": "code",
   "execution_count": null,
   "metadata": {},
   "outputs": [],
   "source": []
  }
 ],
 "metadata": {
  "kernelspec": {
   "display_name": "Python 3",
   "language": "python",
   "name": "python3"
  },
  "language_info": {
   "codemirror_mode": {
    "name": "ipython",
    "version": 3
   },
   "file_extension": ".py",
   "mimetype": "text/x-python",
   "name": "python",
   "nbconvert_exporter": "python",
   "pygments_lexer": "ipython3",
   "version": "3.6.4"
  }
 },
 "nbformat": 4,
 "nbformat_minor": 2
}
