{
 "cells": [
  {
   "cell_type": "markdown",
   "metadata": {},
   "source": [
    "作業目標\n",
    "請利用 API: https://www.dcard.tw/_api/forums/pet/posts?popular=true 回答下列問題：\n",
    "\n",
    "這個 API 一次會回傳幾筆資料？每一筆資料包含哪些欄位？\n",
    "取出每一筆資料的「標題」、「貼文時間」、「留言人數」、「按讚人數」\n",
    "計算熱門/非熱門文章的「平均留言人數」與「平均按讚人數」"
   ]
  },
  {
   "cell_type": "code",
   "execution_count": 1,
   "metadata": {},
   "outputs": [],
   "source": [
    "#引入函式庫\n",
    "import requests\n",
    "#想要爬資料的目標網址\n",
    "r = requests.get('https://www.dcard.tw/_api/forums/job/posts?popular=true')\n",
    "#模擬發送請求的動作\n",
    "response = r.text\n",
    "# print(response)\n",
    "\n",
    "import json\n",
    "data = json.loads(response) #利用json解析網頁內容"
   ]
  },
  {
   "cell_type": "code",
   "execution_count": 2,
   "metadata": {},
   "outputs": [
    {
     "name": "stdout",
     "output_type": "stream",
     "text": [
      "有30筆資料\n"
     ]
    }
   ],
   "source": [
    "#這個 API 一次會回傳幾筆資料？每一筆資料包含哪些欄位？ \n",
    "i=0\n",
    "for d in data:\n",
    "    i+=1\n",
    "#     print(d['id'])\n",
    "\n",
    "\n",
    "print(\"有\"+str(i)+\"筆資料\")\n",
    "#[\"id\"][\"title\"][\"excerpt\"]['anonymousSchool']......."
   ]
  },
  {
   "cell_type": "code",
   "execution_count": 3,
   "metadata": {},
   "outputs": [
    {
     "name": "stdout",
     "output_type": "stream",
     "text": [
      "<請先點我> 工作板＆實習、打工職缺刊登說明 2017-01-01T06:27:39.650Z 45 739\n",
      "#更 中秋節薪水怎麼算？？ 2020-10-01T03:47:25.462Z 108 573\n",
      "回嗆主管的死亡過程 2020-10-02T03:00:11.002Z 26 300\n",
      "額外的禮物 2020-10-01T03:12:33.358Z 22 261\n",
      "廁所的清潔阿姨在哭 2020-10-02T01:59:59.155Z 9 94\n",
      "關於求職-你不該這樣說 2020-10-01T07:58:04.539Z 33 92\n",
      "呼籲年輕人自己創業 2020-10-01T07:12:42.265Z 51 35\n",
      "IG、FB「快速賺錢」廣告背後的真相 2020-10-01T15:44:43.444Z 4 29\n",
      "變社畜滿一年了，身邊的朋友待遇如何呢？ 2020-10-02T01:15:22.506Z 22 18\n",
      "工作選擇 2020-10-01T01:48:07.747Z 23 11\n",
      "是不是該投胎了 2020-10-01T05:42:52.893Z 33 9\n",
      "敬佩每個房務員 2020-10-01T08:07:53.940Z 5 8\n",
      "如何關閉台積電官網上的履歷 2020-10-01T01:38:20.504Z 13 8\n",
      "我在疫情後的半年決定轉職，一些心得分享。(中) 2020-10-01T16:02:50.300Z 1 7\n",
      "想對有在接活動工讀的學生說 2020-10-01T15:53:17.428Z 0 6\n",
      "工作迷惘又難找... 2020-10-01T06:41:17.138Z 9 6\n",
      "關於求職 你要慎選公司 2020-10-02T08:30:34.983Z 3 5\n",
      "#銀行業  一起找工作、找職缺、等消息區 2020-10-01T15:53:26.592Z 14 5\n",
      "應屆畢業生問題 2020-10-01T02:34:20.468Z 15 5\n",
      "#請益 青年就業獎勵 2020-10-01T16:24:05.964Z 2 4\n",
      "ㄧ個月內找到工作 2020-10-01T00:41:26.410Z 13 4\n",
      "試用期與租房選擇 2020-10-02T02:10:33.533Z 5 3\n",
      "要不要繼續待這個工作 2020-10-01T16:12:00.393Z 6 3\n",
      "出社會三年,薪水漲幅多少算高? 2020-10-01T14:44:57.181Z 7 3\n",
      "客服被罵幹你娘機掰可以提告嗎？ 2020-10-01T04:52:40.202Z 15 3\n",
      "想請問二代健保 2020-10-01T03:42:11.132Z 3 3\n",
      "每天交班都遲到的老闆 2020-10-02T04:37:27.665Z 1 2\n",
      "哪個工作未來比較好？ 2020-10-01T16:24:21.562Z 15 2\n",
      "怎麼提離職 2020-10-01T15:10:14.654Z 4 2\n",
      "這份工作該繼續嗎 2020-10-01T12:49:10.476Z 8 2\n",
      "平均回應數17.166666666666668 平均按讚數 74.73333333333333\n"
     ]
    }
   ],
   "source": [
    "# 取出每一筆資料的「標題」、「貼文時間」、「留言人數」、「按讚人數」 \n",
    "#計算熱門/非熱門文章的「平均留言人數」與「平均按讚人數」\n",
    "\n",
    "i=0\n",
    "commentCount_avage = 0\n",
    "likeCount_avage = 0\n",
    "for d in data:\n",
    "    i+=1\n",
    "    print(d['title'],d['createdAt'],d['commentCount'],d['likeCount'])\n",
    "    commentCount_avage += d['commentCount']\n",
    "    likeCount_avage +=d['likeCount']\n",
    "\n",
    "print(\"平均回應數\"+str(commentCount_avage/i),\"平均按讚數\",str(likeCount_avage/i))"
   ]
  },
  {
   "cell_type": "code",
   "execution_count": null,
   "metadata": {},
   "outputs": [],
   "source": []
  }
 ],
 "metadata": {
  "kernelspec": {
   "display_name": "Python 3",
   "language": "python",
   "name": "python3"
  },
  "language_info": {
   "codemirror_mode": {
    "name": "ipython",
    "version": 3
   },
   "file_extension": ".py",
   "mimetype": "text/x-python",
   "name": "python",
   "nbconvert_exporter": "python",
   "pygments_lexer": "ipython3",
   "version": "3.6.4"
  }
 },
 "nbformat": 4,
 "nbformat_minor": 2
}
