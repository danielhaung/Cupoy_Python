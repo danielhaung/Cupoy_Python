{
 "cells": [
  {
   "cell_type": "code",
   "execution_count": 6,
   "metadata": {},
   "outputs": [
    {
     "name": "stdout",
     "output_type": "stream",
     "text": [
      "[{'AREA_NO': 'A01', 'AREA_NAME': '北區', 'Warns': None, 'DryView': [{'AREA_NO': None, 'AREA_Name': None, 'DATE': '2020-10-22T13:00:00+08:00', 'NWL_MX': 245.0, 'Capacity': 9168.24470682002, 'CapacityRate': 46.44383225764302, 'Status': 5, 'Basin_Rain': 9.6, 'EffectiveCapacity': 19740.5, 'StationNo': '10201', 'StationName': '石門水庫', 'BasinNo': '1140', 'Basin': None}, {'AREA_NO': None, 'AREA_Name': None, 'DATE': '2020-10-22T08:00:00', 'NWL_MX': 86.0, 'Capacity': 888.25, 'CapacityRate': 88.64770459081836, 'Status': 5, 'Basin_Rain': 77.0, 'EffectiveCapacity': 1002.0, 'StationNo': '10204', 'StationName': '新山水庫', 'BasinNo': '1140', 'Basin': None}, {'AREA_NO': None, 'AREA_Name': None, 'DATE': '2020-10-22T13:00:00', 'NWL_MX': 170.0, 'Capacity': 23440.14, 'CapacityRate': 69.86524790986721, 'Status': 5, 'Basin_Rain': 36.2, 'EffectiveCapacity': 33550.5, 'StationNo': '10205', 'StationName': '翡翠水庫', 'BasinNo': '1140', 'Basin': None}, {'AREA_NO': None, 'AREA_Name': None, 'DATE': '2020-10-22T13:00:00', 'NWL_MX': 150.0, 'Capacity': 1836.83, 'CapacityRate': 58.36431344886533, 'Status': 5, 'Basin_Rain': 0.2, 'EffectiveCapacity': 3147.18, 'StationNo': '10405', 'StationName': '寶山第二水庫', 'BasinNo': '1300', 'Basin': None}, {'AREA_NO': None, 'AREA_Name': None, 'DATE': '2020-10-22T08:00:00', 'NWL_MX': 85.0, 'Capacity': 1337.615, 'CapacityRate': 44.602926367316456, 'Status': 5, 'Basin_Rain': 0.0, 'EffectiveCapacity': 2998.94, 'StationNo': '10501', 'StationName': '永和山水庫', 'BasinNo': '105', 'Basin': None}, {'AREA_NO': None, 'AREA_Name': None, 'DATE': '2020-10-22T07:00:00', 'NWL_MX': 61.0, 'Capacity': 249.8795, 'CapacityRate': 20.44762450138972, 'Status': 5, 'Basin_Rain': 0.2, 'EffectiveCapacity': 1222.0466, 'StationNo': '10601', 'StationName': '明德水庫', 'BasinNo': '1350', 'Basin': None}]}, {'AREA_NO': 'A02', 'AREA_NAME': '中區', 'Warns': None, 'DryView': [{'AREA_NO': None, 'AREA_Name': None, 'DATE': '2020-10-22T12:00:00', 'NWL_MX': 300.0, 'Capacity': 6466.7, 'CapacityRate': 56.4703313976335, 'Status': 5, 'Basin_Rain': 0.0, 'EffectiveCapacity': 11451.5, 'StationNo': '20101', 'StationName': '鯉魚潭水庫', 'BasinNo': '1400', 'Basin': None}, {'AREA_NO': None, 'AREA_Name': None, 'DATE': '2020-10-22T07:00:00', 'NWL_MX': 1408.0, 'Capacity': 10838.54, 'CapacityRate': 57.76241739501173, 'Status': 5, 'Basin_Rain': 5.5, 'EffectiveCapacity': 18679.0, 'StationNo': '20201', 'StationName': '德基水庫', 'BasinNo': '1420', 'Basin': None}, {'AREA_NO': None, 'AREA_Name': None, 'DATE': '2020-10-22T12:00:00', 'NWL_MX': 274.5, 'Capacity': 49.66, 'CapacityRate': 34.231750189563655, 'Status': 5, 'Basin_Rain': 0.0, 'EffectiveCapacity': 142.17, 'StationNo': '20202', 'StationName': '石岡壩', 'BasinNo': '1420', 'Basin': None}, {'AREA_NO': None, 'AREA_Name': None, 'DATE': '2020-10-22T07:00:00', 'NWL_MX': 1005.0, 'Capacity': 691.51, 'CapacityRate': 18.46079507078538, 'Status': 5, 'Basin_Rain': 0.0, 'EffectiveCapacity': 3745.83, 'StationNo': '20501', 'StationName': '霧社水庫', 'BasinNo': '1510', 'Basin': None}, {'AREA_NO': None, 'AREA_Name': None, 'DATE': '2020-10-22T07:00:00', 'NWL_MX': 748.48, 'Capacity': 11318.57, 'CapacityRate': 88.48861581472583, 'Status': 5, 'Basin_Rain': 0.0, 'EffectiveCapacity': 12791.0, 'StationNo': '20502', 'StationName': '日月潭水庫', 'BasinNo': '1510', 'Basin': None}, {'AREA_NO': None, 'AREA_Name': None, 'DATE': '2020-10-22T12:00:00', 'NWL_MX': 211.5, 'Capacity': 5065.11, 'CapacityRate': 99.57924015513971, 'Status': 5, 'Basin_Rain': 0.2, 'EffectiveCapacity': 5085.0, 'StationNo': '20509', 'StationName': '湖山水庫', 'BasinNo': '1510', 'Basin': None}]}, {'AREA_NO': 'A03', 'AREA_NAME': '南區', 'Warns': None, 'DryView': [{'AREA_NO': None, 'AREA_Name': None, 'DATE': '2020-10-22T07:00:00', 'NWL_MX': 105.0, 'Capacity': 2155.78, 'CapacityRate': 85.29432711101265, 'Status': 5, 'Basin_Rain': 0.0, 'EffectiveCapacity': 2527.46, 'StationNo': '30301', 'StationName': '仁義潭水庫', 'BasinNo': '1580', 'Basin': None}, {'AREA_NO': None, 'AREA_Name': None, 'DATE': '2020-10-22T08:00:00', 'NWL_MX': 109.0, 'Capacity': 167.0, 'CapacityRate': 24.166739504544214, 'Status': 5, 'Basin_Rain': 0.0, 'EffectiveCapacity': 691.0324, 'StationNo': '30401', 'StationName': '白河水庫', 'BasinNo': '1590', 'Basin': None}, {'AREA_NO': None, 'AREA_Name': None, 'DATE': '2020-10-22T07:00:00', 'NWL_MX': 58.18, 'Capacity': 5542.0, 'CapacityRate': 70.36120104107154, 'Status': 5, 'Basin_Rain': 0.0, 'EffectiveCapacity': 7876.5, 'StationNo': '30501', 'StationName': '烏山頭水庫', 'BasinNo': '1590', 'Basin': None}, {'AREA_NO': None, 'AREA_Name': None, 'DATE': '2020-10-22T12:00:00', 'NWL_MX': 230.0, 'Capacity': 14914.0, 'CapacityRate': 29.329976990697947, 'Status': 5, 'Basin_Rain': 0.2, 'EffectiveCapacity': 50849.0, 'StationNo': '30502', 'StationName': '曾文水庫', 'BasinNo': '1630', 'Basin': None}, {'AREA_NO': None, 'AREA_Name': None, 'DATE': '2020-10-22T07:00:00', 'NWL_MX': 180.0, 'Capacity': 8785.47, 'CapacityRate': 96.75521194700498, 'Status': 5, 'Basin_Rain': 0.0, 'EffectiveCapacity': 9080.1, 'StationNo': '30503', 'StationName': '南化水庫', 'BasinNo': '1630', 'Basin': None}, {'AREA_NO': None, 'AREA_Name': None, 'DATE': '2020-10-22T12:00:00', 'NWL_MX': 37.0, 'Capacity': 1508.0, 'CapacityRate': 99.04501687968789, 'Status': 5, 'Basin_Rain': 0.0, 'EffectiveCapacity': 1509.862, 'StationNo': '30802', 'StationName': '阿公店水庫', 'BasinNo': '308', 'Basin': None}, {'AREA_NO': None, 'AREA_Name': None, 'DATE': '2020-10-22T12:00:00', 'NWL_MX': 142.0, 'Capacity': 2170.0, 'CapacityRate': 82.01898229183715, 'Status': 5, 'Basin_Rain': 29.0, 'EffectiveCapacity': 2632.875, 'StationNo': '31201', 'StationName': '牡丹水庫', 'BasinNo': '312', 'Basin': None}]}]\n"
     ]
    }
   ],
   "source": [
    "import requests\n",
    "import json\n",
    "\n",
    "r = requests.get('https://fhy.wra.gov.tw/fhy/api/ReservoirInfoApi/DryAreaGetAll')\n",
    "d = json.loads(r.text)\n",
    "print(d)"
   ]
  },
  {
   "cell_type": "code",
   "execution_count": null,
   "metadata": {},
   "outputs": [],
   "source": []
  },
  {
   "cell_type": "code",
   "execution_count": null,
   "metadata": {},
   "outputs": [],
   "source": []
  },
  {
   "cell_type": "code",
   "execution_count": null,
   "metadata": {},
   "outputs": [],
   "source": []
  }
 ],
 "metadata": {
  "kernelspec": {
   "display_name": "Python 3",
   "language": "python",
   "name": "python3"
  },
  "language_info": {
   "codemirror_mode": {
    "name": "ipython",
    "version": 3
   },
   "file_extension": ".py",
   "mimetype": "text/x-python",
   "name": "python",
   "nbconvert_exporter": "python",
   "pygments_lexer": "ipython3",
   "version": "3.6.4"
  }
 },
 "nbformat": 4,
 "nbformat_minor": 2
}
