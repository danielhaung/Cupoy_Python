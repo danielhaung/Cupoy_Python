{
 "cells": [
  {
   "cell_type": "markdown",
   "metadata": {},
   "source": [
    "台灣銀行牌告匯率爬蟲練習\n",
    "==\n",
    "範例1： 練習爬取台幣對其他貨幣匯率資料\n",
    "--\n"
   ]
  },
  {
   "cell_type": "code",
   "execution_count": 4,
   "metadata": {},
   "outputs": [],
   "source": [
    "import requests \n",
    "from bs4 import BeautifulSoup\n",
    "from datetime import datetime\n",
    "import pandas as pd\n",
    "import matplotlib.pyplot as plt \n"
   ]
  },
  {
   "cell_type": "markdown",
   "metadata": {},
   "source": [
    "進入台灣銀行牌告匯率網頁：https://rate.bot.com.tw/xrt?Lang=zh-TW ，擷取當日台幣對美金的匯率資訊\n",
    "==\n"
   ]
  },
  {
   "cell_type": "code",
   "execution_count": 5,
   "metadata": {},
   "outputs": [
    {
     "name": "stdout",
     "output_type": "stream",
     "text": [
      "\r\n",
      "美金(USD)\r\n",
      "\n",
      "即時現金買入: 28.25, 即時現金賣出: 28.92\n"
     ]
    }
   ],
   "source": [
    "# 進入台灣銀行牌告匯率網頁，查看當日匯率資料\n",
    "url = \"https://rate.bot.com.tw/xrt?Lang=zh-TW\"\n",
    "resp = requests.get(url)\n",
    "resp.encoding = 'utf-8'\n",
    "# print(resp.text)  # 如有需要，列印出網頁原始碼\n",
    "\n",
    "html = BeautifulSoup(resp.text, \"lxml\")\n",
    "rate_table = html.find(name='table', attrs={'title':'牌告匯率'}).find(name='tbody').find_all(name='tr')\n",
    "\n",
    "# 查詢美金(也就是匯率表的第一個元素)對台幣的匯率\n",
    "currency = rate_table[0].find(name='div', attrs={'class':'visible-phone print_hide'})\n",
    "print(currency.get_text().replace(\" \", \"\"))  # 去掉空白\n",
    "\n",
    "buy_rate = rate_table[0].find(name='td', attrs={'data-table':'本行現金買入'})\n",
    "sell_rate = rate_table[0].find(name='td', attrs={'data-table':'本行現金賣出'})\n",
    "print(\"即時現金買入: %s, 即時現金賣出: %s\" % (buy_rate.get_text(), sell_rate.get_text()))"
   ]
  },
  {
   "cell_type": "markdown",
   "metadata": {},
   "source": [
    "範例2：爬取一個月的美金對台幣歷史匯率資料，並畫出趨勢圖\n",
    "==="
   ]
  },
  {
   "cell_type": "code",
   "execution_count": 28,
   "metadata": {},
   "outputs": [
    {
     "name": "stdout",
     "output_type": "stream",
     "text": [
      "\r\n",
      "美金(USD)\r\n",
      "\n"
     ]
    },
    {
     "data": {
      "text/plain": [
       "<matplotlib.figure.Figure at 0x25757548358>"
      ]
     },
     "metadata": {},
     "output_type": "display_data"
    },
    {
     "data": {
      "image/png": "[encoded data removed]",
      "text/plain": [
       "<matplotlib.figure.Figure at 0x2574f73f278>"
      ]
     },
     "metadata": {},
     "output_type": "display_data"
    }
   ],
   "source": [
    "#先到牌告匯率首頁，爬去所有貨幣的種類\n",
    "url = 'https://rate.bot.com.tw/xrt?Lang=zh-TW'\n",
    "resp = requests.get(url)\n",
    "resp.encoding = 'utf-8'\n",
    "html = BeautifulSoup(resp.text,'lxml')\n",
    "rate_table = html.find(name='table', attrs={'title':'牌告匯率'}).find(name='tbody').find_all(name='tr')\n",
    "\n",
    "#擷取匯率表格，把美金(也就是匯率表的第一個元素)擷取出來，查詢其歷史匯率\n",
    "currency = rate_table[0].find(name='div', attrs={'class':'visible-phone print_hide'})\n",
    "print(currency.get_text().replace(\" \", \"\"))  # 貨幣種類\n",
    "\n",
    "# 針對美金，找到其「歷史匯率」的首頁 \n",
    "history_link = rate_table[0].find(name='td', attrs={'data-table':'歷史匯率'})\n",
    "history_rate_link = \"https://rate.bot.com.tw\" + history_link.a[\"href\"]  # 該貨幣的歷史資料首頁\n",
    "\n",
    "\n",
    "#\n",
    "# 到貨幣歷史匯率網頁，選則該貨幣的「歷史區間」，送出查詢後，觀察其網址變化情形，再試著抓取其歷史匯率資料\n",
    "#\n",
    "# 用「quote/年-月」去取代網址內容，就可以連到該貨幣的歷史資料\n",
    "quote_history_url = history_rate_link.replace(\"history\", \"quote/2019-08\")\n",
    "resp = requests.get(quote_history_url)\n",
    "resp.encoding = 'utf-8'\n",
    "history = BeautifulSoup(resp.text, \"lxml\")\n",
    "history_table = history.find(name='table', attrs={'title':'歷史本行營業時間牌告匯率'}).find(name='tbody').find_all(name='tr')\n",
    "\n",
    "\n",
    "#擷取到歷史匯率資料後，把資料彙整起來並畫出趨勢圖\n",
    "\n",
    "date_history = list()\n",
    "history_buy = list()\n",
    "history_sell = list()\n",
    "\n",
    "for history_rate in history_table:\n",
    "    #擷取日期資料\n",
    "    date_string = history_rate.a.get_text()\n",
    "    date = datetime.strptime(date_string, '%Y/%M/%d').strftime('%Y/%M/%d')  # 轉換日期格式\n",
    "    date_history.append(date)  # 日期歷史資料\n",
    "\n",
    "    history_ex_rate = history_rate.find_all(name='td', attrs={'class':'rate-content-cash text-right print_table-cell'})\n",
    "    history_buy.append(float(history_ex_rate[0].get_text()))  # 歷史買入匯率\n",
    "    history_sell.append(float(history_ex_rate[1].get_text()))  # 歷史賣出匯率\n",
    "\n",
    "# #將匯率資料建成dataframe形式\n",
    "HistoryExchangeRate = pd.DataFrame({'date': date_history,\n",
    "                                    'buy_rate':history_buy,\n",
    "                                    'sell_rate':history_sell})\n",
    "    \n",
    "    \n",
    "HistoryExchangeRate = HistoryExchangeRate.set_index('date')  # 指定日期欄位為datafram的index\n",
    "HistoryExchangeRate = HistoryExchangeRate.sort_index(ascending=True)\n",
    "\n",
    "    \n",
    "#畫出歷史匯率軌跡圖\n",
    "plt.figure(figsize=(10,8))\n",
    "HistoryExchangeRate[['buy_rate','sell_rate']].plot()  # x=['date'], y=[['buy_rate','sell_rate']] \n",
    "plt.legend(loc=\"upper left\")\n",
    "plt.show()\n",
    "\n",
    "\n",
    "\n",
    "\n"
   ]
  },
  {
   "cell_type": "code",
   "execution_count": null,
   "metadata": {},
   "outputs": [],
   "source": []
  }
 ],
 "metadata": {
  "kernelspec": {
   "display_name": "Python 3",
   "language": "python",
   "name": "python3"
  },
  "language_info": {
   "codemirror_mode": {
    "name": "ipython",
    "version": 3
   },
   "file_extension": ".py",
   "mimetype": "text/x-python",
   "name": "python",
   "nbconvert_exporter": "python",
   "pygments_lexer": "ipython3",
   "version": "3.6.4"
  }
 },
 "nbformat": 4,
 "nbformat_minor": 2
}
